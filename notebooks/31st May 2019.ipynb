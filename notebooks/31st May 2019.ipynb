{
 "cells": [
  {
   "cell_type": "markdown",
   "metadata": {},
   "source": [
    "# Artificial Intelligence and Machine Learning-Internship\n",
    "\n",
    "### Day no - 7\n",
    "### Date - 31st May 2019\n"
   ]
  },
  {
   "cell_type": "markdown",
   "metadata": {},
   "source": [
    "### Problem 1 : \n",
    "#### Problem Statement :\n",
    "How many runs of  Dhoni  On 4/23/2008  Chennai Super Kings vs Mumbai Indians Match ( Use Oops concepts)\n"
   ]
  },
  {
   "cell_type": "code",
   "execution_count": 58,
   "metadata": {},
   "outputs": [
    {
     "data": {
      "text/plain": [
       "30"
      ]
     },
     "execution_count": 58,
     "metadata": {},
     "output_type": "execute_result"
    }
   ],
   "source": [
    "import pandas \n",
    "class MyClass():\n",
    "    \n",
    "    def readcsv(filename):\n",
    "        df=pandas.read_csv(filename)\n",
    "        return df\n",
    "    def playerid(name):\n",
    "        playerid=df1['Player_Id'][df1.Player_Name==name]\n",
    "        return int(playerid)\n",
    "    def score(playerid,matchdate):\n",
    "        sum=0\n",
    "        for i in range(len(df2)):\n",
    "            if (df2.Striker[i]==playerid) and (str(df2.Match_Date[i])==matchdate):\n",
    "                sum=df2.Runs_Scored[i]+sum\n",
    "        return sum  \n",
    "df1=MyClass.readcsv('Datafiles/Player.csv')\n",
    "df2=MyClass.readcsv('Datafiles/Ball_By_Ball.csv')\n",
    "MyClass.score(MyClass.playerid('MS Dhoni'),'4/23/2008')"
   ]
  },
  {
   "cell_type": "code",
   "execution_count": 48,
   "metadata": {},
   "outputs": [
    {
     "data": {
      "text/plain": [
       "335994"
      ]
     },
     "execution_count": 48,
     "metadata": {},
     "output_type": "execute_result"
    }
   ],
   "source": [
    "import pandas\n",
    "df1=pandas.read_csv('DataFiles/Match.csv')\n",
    "df2=pandas.read_csv('DataFiles/Player.csv')\n",
    "df3=pandas.read_csv('DataFiles/Ball_By_Ball.csv')\n",
    "mid=df1[df1['match_date']=='4/23/2008'].values[0][1]\n",
    "mid\n"
   ]
  },
  {
   "cell_type": "code",
   "execution_count": null,
   "metadata": {},
   "outputs": [],
   "source": []
  },
  {
   "cell_type": "code",
   "execution_count": null,
   "metadata": {},
   "outputs": [],
   "source": []
  },
  {
   "cell_type": "code",
   "execution_count": null,
   "metadata": {
    "scrolled": true
   },
   "outputs": [],
   "source": []
  },
  {
   "cell_type": "code",
   "execution_count": null,
   "metadata": {},
   "outputs": [],
   "source": []
  },
  {
   "cell_type": "markdown",
   "metadata": {},
   "source": [
    "### Problem 2: \n",
    "#### Problem Statement :\n",
    "4/23/2008  Chennai Super Kings vs Mumbai Indians Match\n",
    "* Plot a bar graph for all the players in the   Mumbai Indians  team\n"
   ]
  },
  {
   "cell_type": "code",
   "execution_count": null,
   "metadata": {},
   "outputs": [],
   "source": []
  },
  {
   "cell_type": "code",
   "execution_count": null,
   "metadata": {},
   "outputs": [],
   "source": []
  },
  {
   "cell_type": "code",
   "execution_count": 49,
   "metadata": {
    "scrolled": true
   },
   "outputs": [
    {
     "data": {
      "image/png": "[encoded data removed]",
      "text/plain": [
       "<Figure size 720x720 with 1 Axes>"
      ]
     },
     "metadata": {
      "needs_background": "light"
     },
     "output_type": "display_data"
    }
   ],
   "source": [
    "import pandas \n",
    "import numpy\n",
    "import matplotlib.pyplot as plt\n",
    "class MyClass():\n",
    "    def readcsv(filename):\n",
    "        df=pandas.read_csv(filename)\n",
    "        return df\n",
    "    def playerid(name):\n",
    "        playerid=df4['Player_Id'][df4.Player_Name==name]\n",
    "        return int(playerid)\n",
    "    def score(playerid,matchdate):\n",
    "        sum=0\n",
    "        for i in range(len(df2)):\n",
    "            if (df2.Striker[i]==playerid) and (str(df2.Match_Date[i])==matchdate):\n",
    "                sum=df2.Runs_Scored[i]+sum\n",
    "        return sum\n",
    "\n",
    "df1=MyClass.readcsv('Datafiles/Match.csv')\n",
    "df2=MyClass.readcsv('Datafiles/Ball_By_Ball.csv')\n",
    "df3=MyClass.readcsv('DataFiles/Player_match.csv')\n",
    "df4=MyClass.readcsv('DataFIles/Player.csv')\n",
    "matchid=int(df1[(df1['match_date']=='4/23/2008')& ((df1['Team1']=='Mumbai Indians') | (df1['Team2']=='Mumbai Indians' ))]['match_id'])\n",
    "players=[]\n",
    "for i in range(len(df3)):\n",
    "    if df3.Player_team[i]=='Mumbai Indians' and df3.Match_Id[i]==matchid:\n",
    "        players.append(df3.Player_Name[i])\n",
    "y=[]\n",
    "for x in players:\n",
    "    playerid=MyClass.playerid(x)\n",
    "    ans=MyClass.score(playerid,'4/23/2008')\n",
    "    y.append(ans)        \n",
    "plt.figure(figsize=(10,10))\n",
    "plt.bar(players,y,width=1/2,color='green')\n",
    "plt.show()"
   ]
  },
  {
   "cell_type": "code",
   "execution_count": null,
   "metadata": {},
   "outputs": [],
   "source": []
  },
  {
   "cell_type": "code",
   "execution_count": null,
   "metadata": {},
   "outputs": [],
   "source": []
  }
 ],
 "metadata": {
  "kernelspec": {
   "display_name": "Python 3",
   "language": "python",
   "name": "python3"
  },
  "language_info": {
   "codemirror_mode": {
    "name": "ipython",
    "version": 3
   },
   "file_extension": ".py",
   "mimetype": "text/x-python",
   "name": "python",
   "nbconvert_exporter": "python",
   "pygments_lexer": "ipython3",
   "version": "3.7.3"
  }
 },
 "nbformat": 4,
 "nbformat_minor": 2
}
