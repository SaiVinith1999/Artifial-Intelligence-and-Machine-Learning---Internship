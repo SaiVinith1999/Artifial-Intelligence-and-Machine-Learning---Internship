{
 "cells": [
  {
   "cell_type": "code",
   "execution_count": 8,
   "metadata": {},
   "outputs": [
    {
     "name": "stdout",
     "output_type": "stream",
     "text": [
      "<class 'dict'>\n"
     ]
    }
   ],
   "source": [
    "l={'1':12}\n",
    "print(type(l))"
   ]
  },
  {
   "cell_type": "code",
   "execution_count": 10,
   "metadata": {},
   "outputs": [
    {
     "name": "stdout",
     "output_type": "stream",
     "text": [
      "<class 'int'>\n"
     ]
    }
   ],
   "source": [
    "a=6\n",
    "print(type(a))"
   ]
  },
  {
   "cell_type": "code",
   "execution_count": 28,
   "metadata": {},
   "outputs": [
    {
     "name": "stdout",
     "output_type": "stream",
     "text": [
      "<class '__main__.NewList'>\n"
     ]
    }
   ],
   "source": [
    "class NewList():\n",
    "    pass\n",
    "\n",
    "newlist_1_instance=NewList()\n",
    "print(type(newlist_1_instance))\n",
    "    "
   ]
  },
  {
   "cell_type": "code",
   "execution_count": 43,
   "metadata": {},
   "outputs": [
    {
     "name": "stdout",
     "output_type": "stream",
     "text": [
      "hi\n",
      "This is my first method\n",
      "25\n"
     ]
    }
   ],
   "source": [
    "class NewList():\n",
    "    print('hi')\n",
    "    def first_method():\n",
    "        return \"This is my first method\"\n",
    "    def square(n):\n",
    "        return n*n\n",
    "newlist=NewList\n",
    "print(newlist.first_method())\n",
    "print(newlist.square(5))\n"
   ]
  },
  {
   "cell_type": "code",
   "execution_count": 47,
   "metadata": {},
   "outputs": [
    {
     "data": {
      "text/plain": [
       "'Vishal'"
      ]
     },
     "execution_count": 47,
     "metadata": {},
     "output_type": "execute_result"
    }
   ],
   "source": [
    "class NewList():\n",
    "    def first_method(self):\n",
    "        return \"Vishal\"\n",
    "    pass\n",
    "\n",
    "newlist_1=NewList()    \n",
    "newlist_1.first_method()"
   ]
  },
  {
   "cell_type": "code",
   "execution_count": 12,
   "metadata": {},
   "outputs": [
    {
     "name": "stdout",
     "output_type": "stream",
     "text": [
      "Ram karthik antea thope\n",
      "thope antea ram karthik\n"
     ]
    }
   ],
   "source": [
    "class MyClass():\n",
    "    def __init__(self,string):\n",
    "        print(string) \n",
    "mc=MyClass(\"Ram karthik antea thope\\nthope antea ram karthik\")\n",
    "\n",
    "        "
   ]
  },
  {
   "cell_type": "code",
   "execution_count": 15,
   "metadata": {},
   "outputs": [
    {
     "data": {
      "text/plain": [
       "'Ram karthik antea thope\\nthope antea ram karthik'"
      ]
     },
     "execution_count": 15,
     "metadata": {},
     "output_type": "execute_result"
    }
   ],
   "source": [
    "class MyClass():\n",
    "    def __init__(self,string):\n",
    "        self.my_attribute=string \n",
    "mc=MyClass(\"Ram karthik antea thope\\nthope antea ram karthik\")\n",
    "mc.my_attribute\n",
    "        "
   ]
  },
  {
   "cell_type": "code",
   "execution_count": null,
   "metadata": {},
   "outputs": [],
   "source": []
  }
 ],
 "metadata": {
  "kernelspec": {
   "display_name": "Python 3",
   "language": "python",
   "name": "python3"
  },
  "language_info": {
   "codemirror_mode": {
    "name": "ipython",
    "version": 3
   },
   "file_extension": ".py",
   "mimetype": "text/x-python",
   "name": "python",
   "nbconvert_exporter": "python",
   "pygments_lexer": "ipython3",
   "version": "3.7.3"
  }
 },
 "nbformat": 4,
 "nbformat_minor": 2
}
