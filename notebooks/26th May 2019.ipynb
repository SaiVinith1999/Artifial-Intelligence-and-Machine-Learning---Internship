{
 "cells": [
  {
   "cell_type": "markdown",
   "metadata": {},
   "source": [
    "# Problem solving and Programming\n",
    "\n",
    "### Day no - 2\n",
    "### Date - 26th May 2019\n"
   ]
  },
  {
   "cell_type": "markdown",
   "metadata": {},
   "source": [
    "### Problem 1: \n",
    "#### Problem Statement:\n",
    "Compute the total number of unique apps from the dataset\n"
   ]
  },
  {
   "cell_type": "code",
   "execution_count": 2,
   "metadata": {},
   "outputs": [
    {
     "data": {
      "text/plain": [
       "7195"
      ]
     },
     "execution_count": 2,
     "metadata": {},
     "output_type": "execute_result"
    }
   ],
   "source": [
    "import pandas\n",
    "\n",
    "df=pandas.read_csv('Datafiles/AppleStore.csv')\n",
    "u=[]\n",
    "for i in range(len(df)):\n",
    "    if df.loc[i][2] not in u:\n",
    "        u.append(df.loc[i][2])\n",
    "len(u)"
   ]
  },
  {
   "cell_type": "code",
   "execution_count": null,
   "metadata": {},
   "outputs": [],
   "source": []
  },
  {
   "cell_type": "markdown",
   "metadata": {},
   "source": [
    "### Problem 2: \n",
    "#### Problem Statement:\n",
    "Print the Top 10 apps along with their rating based on the number of downloads(rating_count_tot)\n"
   ]
  },
  {
   "cell_type": "code",
   "execution_count": 3,
   "metadata": {},
   "outputs": [
    {
     "name": "stdout",
     "output_type": "stream",
     "text": [
      "Facebook   3.5\n",
      "Instagram   4.5\n",
      "Clash of Clans   4.5\n",
      "Temple Run   4.5\n",
      "Pandora - Music & Radio   4.0\n",
      "Pinterest   4.5\n",
      "Bible   4.5\n",
      "Candy Crush Saga   4.5\n",
      "Spotify Music   4.5\n",
      "Angry Birds   4.5\n"
     ]
    }
   ],
   "source": [
    "import pandas\n",
    "df=pandas.read_csv('Datafiles/AppleStore.csv')\n",
    "a=[]\n",
    "for i in range(0,len(df)):\n",
    "    a.append(df.loc[i][6])\n",
    "a.sort(reverse=True)\n",
    "for i in range(0,10):\n",
    "    for j in range(len(df)):\n",
    "        if a[i]==df.loc[j][6]:\n",
    "            print(df.loc[j][2],' ',df.loc[j][8])\n"
   ]
  },
  {
   "cell_type": "code",
   "execution_count": null,
   "metadata": {},
   "outputs": [],
   "source": []
  },
  {
   "cell_type": "code",
   "execution_count": null,
   "metadata": {},
   "outputs": [],
   "source": []
  },
  {
   "cell_type": "code",
   "execution_count": null,
   "metadata": {},
   "outputs": [],
   "source": []
  },
  {
   "cell_type": "markdown",
   "metadata": {},
   "source": [
    "### Problem 3: \n",
    "#### Problem Statement:\n",
    "Categorise the dataset based on content rating into the following\n",
    "* Number of apps with content rating 4+\n",
    "* Number of apps with content rating 9+\n",
    "* Number of apps with content rating 12+\n",
    "* Number of apps with content rating 17+\n",
    "\n"
   ]
  },
  {
   "cell_type": "code",
   "execution_count": 22,
   "metadata": {},
   "outputs": [
    {
     "name": "stdout",
     "output_type": "stream",
     "text": [
      "Number of apps with content rating 4+ :  4433\n",
      "Number of apps with content rating 9+ :  987\n",
      "Number of apps with content rating 12+ :  1155\n",
      "Number of apps with content rating 17+ :  622\n"
     ]
    }
   ],
   "source": [
    "import pandas\n",
    "df=pandas.read_csv('Datafiles/AppleStore.csv',usecols=['cont_rating'])\n",
    "c1=c2=c3=c4=0\n",
    "for x in df.values:\n",
    "    if x=='4+':\n",
    "        c1=c1+1\n",
    "    elif x=='9+':\n",
    "        c2=c2+1\n",
    "    elif x=='12+':\n",
    "        c3=c3+1\n",
    "    else:\n",
    "        c4=c4+1\n",
    "\n",
    "print('Number of apps with content rating 4+ : ',c1)\n",
    "print('Number of apps with content rating 9+ : ',c2)\n",
    "print('Number of apps with content rating 12+ : ',c3)\n",
    "print('Number of apps with content rating 17+ : ',c4)"
   ]
  },
  {
   "cell_type": "code",
   "execution_count": null,
   "metadata": {},
   "outputs": [],
   "source": []
  }
 ],
 "metadata": {
  "kernelspec": {
   "display_name": "Python 3",
   "language": "python",
   "name": "python3"
  },
  "language_info": {
   "codemirror_mode": {
    "name": "ipython",
    "version": 3
   },
   "file_extension": ".py",
   "mimetype": "text/x-python",
   "name": "python",
   "nbconvert_exporter": "python",
   "pygments_lexer": "ipython3",
   "version": "3.7.3"
  }
 },
 "nbformat": 4,
 "nbformat_minor": 2
}
